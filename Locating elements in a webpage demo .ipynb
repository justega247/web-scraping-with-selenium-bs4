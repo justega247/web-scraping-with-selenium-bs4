{
 "cells": [
  {
   "cell_type": "markdown",
   "metadata": {},
   "source": [
    "# Locating elements in a webpage with Selenium and Python"
   ]
  },
  {
   "cell_type": "code",
   "execution_count": 5,
   "metadata": {},
   "outputs": [],
   "source": [
    "# importing required packages\n",
    "from selenium import webdriver\n",
    "from selenium.webdriver.common.keys import Keys\n",
    "from selenium.webdriver.chrome.options import Options\n",
    "import time"
   ]
  },
  {
   "cell_type": "code",
   "execution_count": 2,
   "metadata": {},
   "outputs": [],
   "source": [
    "# adding options on chrome\n",
    "chromeOptions = Options()\n",
    "chromeOptions.add_argument(\"--kiosk\")"
   ]
  },
  {
   "cell_type": "markdown",
   "metadata": {},
   "source": [
    "#### Locating elements by name"
   ]
  },
  {
   "cell_type": "code",
   "execution_count": 7,
   "metadata": {},
   "outputs": [],
   "source": [
    "driver = webdriver.Chrome('/Users/oghenetega/Downloads/chromedriver', options=chromeOptions)\n",
    "driver.get(\"https://www.google.com/\")\n",
    "\n",
    "ele = driver.find_element_by_name(\"q\")\n",
    "time.sleep(1)\n",
    "ele.clear()\n",
    "ele.send_keys(\"Cory House\")\n",
    "ele.send_keys(Keys.RETURN)"
   ]
  },
  {
   "cell_type": "code",
   "execution_count": 8,
   "metadata": {},
   "outputs": [],
   "source": [
    "driver.quit()"
   ]
  },
  {
   "cell_type": "markdown",
   "metadata": {},
   "source": [
    "#### Locating elements by ID"
   ]
  },
  {
   "cell_type": "code",
   "execution_count": 9,
   "metadata": {},
   "outputs": [],
   "source": [
    "driver = webdriver.Chrome('/Users/oghenetega/Downloads/chromedriver', options=chromeOptions)\n",
    "driver.get(\"https://www.python.org/\")\n",
    "\n",
    "ele = driver.find_element_by_id(\"id-search-field\")\n",
    "time.sleep(1)\n",
    "ele.clear()\n",
    "ele.send_keys(\"lists\")\n",
    "ele.send_keys(Keys.RETURN)"
   ]
  },
  {
   "cell_type": "code",
   "execution_count": 10,
   "metadata": {},
   "outputs": [],
   "source": [
    "driver.quit()"
   ]
  },
  {
   "cell_type": "markdown",
   "metadata": {},
   "source": [
    "#### Locating elements by link text"
   ]
  },
  {
   "cell_type": "code",
   "execution_count": 15,
   "metadata": {},
   "outputs": [],
   "source": [
    "driver = webdriver.Chrome('/Users/oghenetega/Downloads/chromedriver', options=chromeOptions)\n",
    "driver.get(\"https://www.google.com/\")\n",
    "\n",
    "ele = driver.find_element_by_name(\"q\")\n",
    "time.sleep(1)\n",
    "ele.clear()\n",
    "ele.send_keys(\"Cory House\")\n",
    "ele.send_keys(Keys.RETURN)\n",
    "\n",
    "ele_link = driver.find_element_by_link_text(\"Coryhouse (Cory House)\")\n",
    "time.sleep(1)\n",
    "ele_link.click()"
   ]
  },
  {
   "cell_type": "code",
   "execution_count": 16,
   "metadata": {},
   "outputs": [],
   "source": [
    "driver.quit()"
   ]
  },
  {
   "cell_type": "markdown",
   "metadata": {},
   "source": [
    "#### Locating elements by partial link text"
   ]
  },
  {
   "cell_type": "code",
   "execution_count": 17,
   "metadata": {},
   "outputs": [],
   "source": [
    "driver = webdriver.Chrome('/Users/oghenetega/Downloads/chromedriver', options=chromeOptions)\n",
    "driver.get(\"https://www.google.com/\")\n",
    "\n",
    "ele = driver.find_element_by_name(\"q\")\n",
    "time.sleep(1)\n",
    "ele.clear()\n",
    "ele.send_keys(\"Cory House\")\n",
    "ele.send_keys(Keys.RETURN)\n",
    "\n",
    "ele_link = driver.find_element_by_partial_link_text(\"Coryhouse (Cory\")\n",
    "time.sleep(1)\n",
    "ele_link.click()"
   ]
  },
  {
   "cell_type": "code",
   "execution_count": 18,
   "metadata": {},
   "outputs": [],
   "source": [
    "driver.quit()"
   ]
  },
  {
   "cell_type": "markdown",
   "metadata": {},
   "source": [
    "#### Locating elements by CSS Selector"
   ]
  },
  {
   "cell_type": "code",
   "execution_count": 20,
   "metadata": {},
   "outputs": [],
   "source": [
    "driver = webdriver.Chrome('/Users/oghenetega/Downloads/chromedriver', options=chromeOptions)\n",
    "driver.get(\"https://www.google.com/\")\n",
    "\n",
    "ele = driver.find_element_by_css_selector(\"input.gLFyf.gsfi\")\n",
    "time.sleep(1)\n",
    "ele.clear()\n",
    "ele.send_keys(\"Joe cole\")\n",
    "ele.send_keys(Keys.RETURN)"
   ]
  },
  {
   "cell_type": "code",
   "execution_count": 21,
   "metadata": {},
   "outputs": [],
   "source": [
    "driver.quit()"
   ]
  },
  {
   "cell_type": "markdown",
   "metadata": {},
   "source": [
    "#### Locating element by XPath"
   ]
  },
  {
   "cell_type": "code",
   "execution_count": 22,
   "metadata": {},
   "outputs": [],
   "source": [
    "driver = webdriver.Chrome('/Users/oghenetega/Downloads/chromedriver', options=chromeOptions)\n",
    "driver.get(\"https://www.google.com/\")\n",
    "\n",
    "ele = driver.find_element_by_xpath(\"//input[@name='q']\")\n",
    "time.sleep(1)\n",
    "ele.clear()\n",
    "ele.send_keys(\"Okeremeta Tega\")\n",
    "ele.send_keys(Keys.RETURN)"
   ]
  },
  {
   "cell_type": "code",
   "execution_count": 28,
   "metadata": {},
   "outputs": [],
   "source": [
    "driver.quit()"
   ]
  },
  {
   "cell_type": "markdown",
   "metadata": {},
   "source": [
    "#### Locating element by Tag name"
   ]
  },
  {
   "cell_type": "code",
   "execution_count": 29,
   "metadata": {},
   "outputs": [],
   "source": [
    "driver = webdriver.Chrome('/Users/oghenetega/Downloads/chromedriver', options=chromeOptions)\n",
    "driver.get(\"https://www.bing.com/\")\n",
    "\n",
    "ele = driver.find_element_by_tag_name(\"input\")\n",
    "time.sleep(1)\n",
    "ele.clear()\n",
    "ele.send_keys(\"Oke Tega\")\n",
    "ele.send_keys(Keys.RETURN)"
   ]
  },
  {
   "cell_type": "code",
   "execution_count": 30,
   "metadata": {},
   "outputs": [],
   "source": [
    "driver.quit()"
   ]
  },
  {
   "cell_type": "markdown",
   "metadata": {},
   "source": [
    "#### Locating element by class name"
   ]
  },
  {
   "cell_type": "code",
   "execution_count": 32,
   "metadata": {},
   "outputs": [],
   "source": [
    "driver = webdriver.Chrome('/Users/oghenetega/Downloads/chromedriver', options=chromeOptions)\n",
    "driver.get(\"https://www.bing.com/\")\n",
    "\n",
    "ele = driver.find_element_by_class_name(\"sb_form_q\")\n",
    "time.sleep(1)\n",
    "ele.clear()\n",
    "ele.send_keys(\"Chelsea FC\")\n",
    "ele.send_keys(Keys.RETURN)"
   ]
  },
  {
   "cell_type": "code",
   "execution_count": 33,
   "metadata": {},
   "outputs": [],
   "source": [
    "driver.quit()"
   ]
  },
  {
   "cell_type": "code",
   "execution_count": null,
   "metadata": {},
   "outputs": [],
   "source": []
  }
 ],
 "metadata": {
  "kernelspec": {
   "display_name": "web-scraping-selenium",
   "language": "python",
   "name": "web-scraping-selenium"
  },
  "language_info": {
   "codemirror_mode": {
    "name": "ipython",
    "version": 3
   },
   "file_extension": ".py",
   "mimetype": "text/x-python",
   "name": "python",
   "nbconvert_exporter": "python",
   "pygments_lexer": "ipython3",
   "version": "3.7.4"
  }
 },
 "nbformat": 4,
 "nbformat_minor": 2
}
