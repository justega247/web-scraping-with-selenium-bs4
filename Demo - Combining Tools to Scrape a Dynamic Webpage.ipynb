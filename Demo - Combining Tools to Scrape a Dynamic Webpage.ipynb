{
 "cells": [
  {
   "cell_type": "markdown",
   "metadata": {},
   "source": [
    "# Extracting information from a dynamic webpage"
   ]
  },
  {
   "cell_type": "markdown",
   "metadata": {},
   "source": [
    "#### Navigation"
   ]
  },
  {
   "cell_type": "code",
   "execution_count": 2,
   "metadata": {},
   "outputs": [],
   "source": [
    "# importing required packages\n",
    "from selenium import webdriver\n",
    "from selenium.webdriver.common.keys import Keys\n",
    "from selenium.webdriver.chrome.options import Options\n",
    "from selenium.webdriver.support.ui import WebDriverWait\n",
    "from selenium.webdriver.support import expected_conditions as EC\n",
    "from selenium.webdriver.common.by import By\n",
    "import time"
   ]
  },
  {
   "cell_type": "code",
   "execution_count": 3,
   "metadata": {},
   "outputs": [],
   "source": [
    "# adding options on chrome\n",
    "chromeOptions = Options()\n",
    "chromeOptions.add_argument(\"--kiosk\")"
   ]
  },
  {
   "cell_type": "code",
   "execution_count": 14,
   "metadata": {},
   "outputs": [],
   "source": [
    "# navigating to the premier league site\n",
    "driver = webdriver.Chrome('/Users/oghenetega/Downloads/chromedriver', options=chromeOptions)\n",
    "driver.get(\"https://www.premierleague.com/\")\n",
    "\n",
    "# clicking on the players tab\n",
    "players_ele = driver.find_element_by_link_text(\"Players\").click()\n",
    "\n",
    "# Search for Ruben loftus-cheek\n",
    "# web driver wait\n",
    "element = WebDriverWait(driver, 10).until(\n",
    "    EC.element_to_be_clickable((By.ID, \"search-input\")))\n",
    "\n",
    "search_ele = driver.find_element_by_id(\"search-input\")\n",
    "search_ele.send_keys(\"Ruben loftus-cheek\")\n",
    "driver.find_element_by_class_name(\"searchIconContainer\").click()\n",
    "\n",
    "# Click on Ruben loftus-cheek\n",
    "driver.implicitly_wait(2)\n",
    "click_ruben = driver.find_element_by_xpath(\"//img[@data-player='p126187']\").click()"
   ]
  },
  {
   "cell_type": "code",
   "execution_count": 15,
   "metadata": {},
   "outputs": [],
   "source": [
    "page_source_overview = driver.page_source"
   ]
  },
  {
   "cell_type": "markdown",
   "metadata": {},
   "source": [
    "### Beautiful Soup"
   ]
  },
  {
   "cell_type": "code",
   "execution_count": 19,
   "metadata": {},
   "outputs": [],
   "source": [
    "from bs4 import BeautifulSoup"
   ]
  },
  {
   "cell_type": "code",
   "execution_count": 21,
   "metadata": {},
   "outputs": [],
   "source": [
    "# loading page source info\n",
    "soup = BeautifulSoup(page_source_overview, 'html.parser')"
   ]
  },
  {
   "cell_type": "code",
   "execution_count": 22,
   "metadata": {},
   "outputs": [],
   "source": [
    "# locating the titles\n",
    "title_finder = soup.find_all(\"span\", class_=\"title\")"
   ]
  },
  {
   "cell_type": "code",
   "execution_count": 23,
   "metadata": {},
   "outputs": [
    {
     "data": {
      "text/plain": [
       "[<span class=\"title\">Loftus-Cheek plays key role in Chelsea win</span>,\n",
       " <span class=\"title\">GW37 Differentials: Ruben Loftus-Cheek</span>,\n",
       " <span class=\"title\">Loftus-Cheek driving Chelsea's top-four push</span>,\n",
       " <span class=\"title\">Loftus-Cheek late show earns Chelsea dramatic win</span>,\n",
       " <span class=\"title\">Arsenal and Chelsea's best PL goals in 2018/19</span>,\n",
       " <span class=\"title\">FPL Daily Update: GW33 #4</span>,\n",
       " <span class=\"title\">FPL Daily Update: GW12 #2</span>,\n",
       " <span class=\"title\">FPL Show Ep 7: State of Play</span>]"
      ]
     },
     "execution_count": 23,
     "metadata": {},
     "output_type": "execute_result"
    }
   ],
   "source": [
    "title_finder"
   ]
  },
  {
   "cell_type": "code",
   "execution_count": 24,
   "metadata": {},
   "outputs": [
    {
     "name": "stdout",
     "output_type": "stream",
     "text": [
      "----------These are the latest news headlines about loftus-cheek----------\n",
      "\n",
      "Loftus-Cheek plays key role in Chelsea win\n",
      "GW37 Differentials: Ruben Loftus-Cheek\n",
      "Loftus-Cheek driving Chelsea's top-four push\n",
      "Loftus-Cheek late show earns Chelsea dramatic win\n",
      "Arsenal and Chelsea's best PL goals in 2018/19\n",
      "FPL Daily Update: GW33 #4\n",
      "FPL Daily Update: GW12 #2\n",
      "FPL Show Ep 7: State of Play\n"
     ]
    }
   ],
   "source": [
    "print(10*\"-\" + \"These are the latest news headlines about loftus-cheek\" + 10*\"-\" + \"\\n\")\n",
    "for title in title_finder:\n",
    "    print(title.string)"
   ]
  },
  {
   "cell_type": "code",
   "execution_count": 26,
   "metadata": {},
   "outputs": [],
   "source": [
    "# stats button element\n",
    "time.sleep(1)\n",
    "ruben_stats = driver.find_element_by_xpath(\"//a[@href='stats']\").click()"
   ]
  },
  {
   "cell_type": "code",
   "execution_count": 27,
   "metadata": {},
   "outputs": [],
   "source": [
    "page_source_stats = driver.page_source"
   ]
  },
  {
   "cell_type": "code",
   "execution_count": 28,
   "metadata": {},
   "outputs": [],
   "source": [
    "soup = BeautifulSoup(page_source_stats, 'html.parser')"
   ]
  },
  {
   "cell_type": "code",
   "execution_count": 29,
   "metadata": {},
   "outputs": [],
   "source": [
    "# locating all the stats\n",
    "stat_finder = soup.find_all(\"span\", class_=\"allStatContainer\")"
   ]
  },
  {
   "cell_type": "code",
   "execution_count": 30,
   "metadata": {},
   "outputs": [
    {
     "name": "stdout",
     "output_type": "stream",
     "text": [
      "[<span class=\"allStatContainer statappearances\" data-stat=\"appearances\">70</span>, <span class=\"allStatContainer statgoals\" data-stat=\"goals\">9</span>, <span class=\"allStatContainer statwins\" data-stat=\"wins\">29</span>, <span class=\"allStatContainer statlosses\" data-stat=\"losses\">20</span>, <span class=\"allStatContainer statgoals\" data-stat=\"goals\">9</span>, <span class=\"allStatContainer statgoals_per_game\" data-denominator=\"appearances\" data-stat=\"goals\">0.13</span>, <span class=\"allStatContainer statatt_hd_goal\" data-stat=\"att_hd_goal\">2</span>, <span class=\"allStatContainer statatt_rf_goal\" data-stat=\"att_rf_goal\">6</span>, <span class=\"allStatContainer statatt_lf_goal\" data-stat=\"att_lf_goal\">1</span>, <span class=\"allStatContainer statatt_pen_goal\" data-stat=\"att_pen_goal\">0</span>, <span class=\"allStatContainer statatt_freekick_goal\" data-stat=\"att_freekick_goal\">0</span>, <span class=\"allStatContainer stattotal_scoring_att\" data-stat=\"total_scoring_att\">74</span>, <span class=\"allStatContainer statontarget_scoring_att\" data-stat=\"ontarget_scoring_att\">19</span>, <span class=\"allStatContainer statshot_accuracy\" data-denominator=\"total_scoring_att\" data-percent=\"true\" data-stat=\"ontarget_scoring_att\">26%</span>, <span class=\"allStatContainer stathit_woodwork\" data-stat=\"hit_woodwork\">1</span>, <span class=\"allStatContainer statbig_chance_missed\" data-stat=\"big_chance_missed\">5</span>, <span class=\"allStatContainer statgoal_assist\" data-stat=\"goal_assist\">5</span>, <span class=\"allStatContainer stattotal_pass\" data-stat=\"total_pass\">1,705</span>, <span class=\"allStatContainer stattotal_pass_per_game\" data-denominator=\"appearances\" data-stat=\"total_pass\">24.36</span>, <span class=\"allStatContainer statbig_chance_created\" data-stat=\"big_chance_created\">6</span>, <span class=\"allStatContainer stattotal_cross\" data-stat=\"total_cross\">15</span>, <span class=\"allStatContainer statcross_accuracy\" data-denominator=\"total_cross\" data-percent=\"true\" data-stat=\"accurate_cross\">20%</span>, <span class=\"allStatContainer stattotal_through_ball\" data-stat=\"total_through_ball\">5</span>, <span class=\"allStatContainer stataccurate_long_balls\" data-stat=\"accurate_long_balls\">45</span>, <span class=\"allStatContainer statyellow_card\" data-stat=\"yellow_card\">1</span>, <span class=\"allStatContainer statred_card\" data-stat=\"red_card\">0</span>, <span class=\"allStatContainer statfouls\" data-stat=\"fouls\">36</span>, <span class=\"allStatContainer stattotal_offside\" data-stat=\"total_offside\">6</span>, <span class=\"allStatContainer stattotal_tackle\" data-stat=\"total_tackle\">54</span>, <span class=\"allStatContainer stattackle_success\" data-denominator=\"total_tackle\" data-percent=\"true\" data-stat=\"won_tackle\">69%</span>, <span class=\"allStatContainer statblocked_scoring_att\" data-stat=\"blocked_scoring_att\">27</span>, <span class=\"allStatContainer statinterception\" data-stat=\"interception\">42</span>, <span class=\"allStatContainer stattotal_clearance\" data-stat=\"total_clearance\">39</span>, <span class=\"allStatContainer stateffective_head_clearance\" data-stat=\"effective_head_clearance\">26</span>, <span class=\"allStatContainer statball_recovery\" data-stat=\"ball_recovery\">249</span>, <span class=\"allStatContainer statduel_won\" data-stat=\"duel_won\">343</span>, <span class=\"allStatContainer statduel_lost\" data-stat=\"duel_lost\">316</span>, <span class=\"allStatContainer statwon_contest\" data-stat=\"won_contest\">127</span>, <span class=\"allStatContainer stataerial_won\" data-stat=\"aerial_won\">62</span>, <span class=\"allStatContainer stataerial_lost\" data-stat=\"aerial_lost\">85</span>, <span class=\"allStatContainer staterror_lead_to_goal\" data-stat=\"error_lead_to_goal\">0</span>]\n"
     ]
    }
   ],
   "source": [
    "print(stat_finder)"
   ]
  },
  {
   "cell_type": "code",
   "execution_count": 31,
   "metadata": {},
   "outputs": [
    {
     "name": "stdout",
     "output_type": "stream",
     "text": [
      "----------loftus-cheek stats----------\n",
      "\n",
      "appearances - 70\n",
      "goals - 9\n",
      "wins - 29\n",
      "losses - 20\n",
      "goals - 9\n",
      "goals - 0.13\n",
      "att_hd_goal - 2\n",
      "att_rf_goal - 6\n",
      "att_lf_goal - 1\n",
      "att_pen_goal - 0\n",
      "att_freekick_goal - 0\n",
      "total_scoring_att - 74\n",
      "ontarget_scoring_att - 19\n",
      "ontarget_scoring_att - 26%\n",
      "hit_woodwork - 1\n",
      "big_chance_missed - 5\n",
      "goal_assist - 5\n",
      "total_pass - 1,705\n",
      "total_pass - 24.36\n",
      "big_chance_created - 6\n",
      "total_cross - 15\n",
      "accurate_cross - 20%\n",
      "total_through_ball - 5\n",
      "accurate_long_balls - 45\n",
      "yellow_card - 1\n",
      "red_card - 0\n",
      "fouls - 36\n",
      "total_offside - 6\n",
      "total_tackle - 54\n",
      "won_tackle - 69%\n",
      "blocked_scoring_att - 27\n",
      "interception - 42\n",
      "total_clearance - 39\n",
      "effective_head_clearance - 26\n",
      "ball_recovery - 249\n",
      "duel_won - 343\n",
      "duel_lost - 316\n",
      "won_contest - 127\n",
      "aerial_won - 62\n",
      "aerial_lost - 85\n",
      "error_lead_to_goal - 0\n"
     ]
    }
   ],
   "source": [
    "print(10*\"-\" + \"loftus-cheek stats\" + 10*\"-\" + \"\\n\")\n",
    "for stat in stat_finder:\n",
    "    print(stat[\"data-stat\"] + \" - \" + stat.string)"
   ]
  },
  {
   "cell_type": "code",
   "execution_count": 32,
   "metadata": {},
   "outputs": [],
   "source": [
    "driver.quit()"
   ]
  },
  {
   "cell_type": "code",
   "execution_count": null,
   "metadata": {},
   "outputs": [],
   "source": []
  }
 ],
 "metadata": {
  "kernelspec": {
   "display_name": "web-scraping-selenium",
   "language": "python",
   "name": "web-scraping-selenium"
  },
  "language_info": {
   "codemirror_mode": {
    "name": "ipython",
    "version": 3
   },
   "file_extension": ".py",
   "mimetype": "text/x-python",
   "name": "python",
   "nbconvert_exporter": "python",
   "pygments_lexer": "ipython3",
   "version": "3.7.4"
  }
 },
 "nbformat": 4,
 "nbformat_minor": 2
}
